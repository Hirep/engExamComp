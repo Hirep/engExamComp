{
 "cells": [
  {
   "cell_type": "code",
   "execution_count": 170,
   "metadata": {
    "collapsed": true
   },
   "outputs": [],
   "source": [
    "data = 'Master Exam Data.txt'"
   ]
  },
  {
   "cell_type": "code",
   "execution_count": 171,
   "metadata": {
    "collapsed": false
   },
   "outputs": [],
   "source": [
    "#replaces all spaces with tabs\n",
    "import fileinput\n",
    "\n",
    "with fileinput.FileInput(data, inplace=True, backup='.bak') as file:\n",
    "    for line in file:\n",
    "        print(line.replace('\\t', ' ').replace(',', '.'), end='')"
   ]
  },
  {
   "cell_type": "code",
   "execution_count": 172,
   "metadata": {
    "collapsed": false
   },
   "outputs": [],
   "source": [
    "import pandas as pd\n",
    "\n",
    "table = pd.read_table(data, sep=' ', header=0, encoding='utf-8')"
   ]
  },
  {
   "cell_type": "code",
   "execution_count": 173,
   "metadata": {
    "collapsed": false
   },
   "outputs": [
    {
     "name": "stdout",
     "output_type": "stream",
     "text": [
      "      student  points markA  mark5    teacher\n",
      "0   Блаватний      81     С    4.0  Свірепчук\n",
      "3     Єлісєєв      96     А    5.0  Свірепчук\n",
      "4      Івашин      93     В    4.5  Свірепчук\n",
      "5     Кулешов      97     А    5.0  Свірепчук\n",
      "6    Макарчук      91     В    4.5  Свірепчук\n",
      "8   Остапенко      96     А    5.0  Свірепчук\n",
      "10    Пікущий      94     В    4.5  Свірепчук\n",
      "14   Семенчук      98     А    5.0  Свірепчук\n",
      "15     Ткачук      96     А    5.0  Свірепчук\n",
      "16     Усенко      95     А    5.0  Свірепчук\n",
      "17  Хомицький      92     В    4.5  Свірепчук\n",
      "19       Цопа      96     А    5.0  Свірепчук\n",
      "20   Чалієнко      83     С    4.0  Свірепчук\n",
      "21  Чистякова      98     А    5.0  Свірепчук\n",
      "22   Шевченко      95     А    5.0  Свірепчук\n",
      "15\n",
      "0.6\n"
     ]
    }
   ],
   "source": [
    "teacherData = { 'Лісецький': table[table.teacher == 'Лісецький'], 'Свірепчук': table[table.teacher == 'Свірепчук']}\n",
    "teacher1, teacher2 = 'Лісецький' ,'Свірепчук'\n",
    "\n",
    "print(teacherData[teacher2])\n",
    "print(len(teacherData[teacher2]))\n",
    "print(teacherData[teacher2]['markA'].value_counts()[0]/len(teacherData[teacher2]))"
   ]
  },
  {
   "cell_type": "code",
   "execution_count": 174,
   "metadata": {
    "collapsed": false
   },
   "outputs": [],
   "source": [
    "result = pd.DataFrame(columns=('Лісецький', 'Свірепчук'))\n",
    "result.loc['Середній бал'] = [teacherData[teacher1].mean().points, teacherData[teacher2].mean().points]\n",
    "result.loc['Оцінки'] = [\n",
    "    dict(teacherData[teacher1]['markA'].value_counts()),\n",
    "    dict(teacherData[teacher2]['markA'].value_counts())\n",
    "]\n",
    "result.loc['Найвищий бал'] = [teacherData[teacher1].max().points, teacherData[teacher2].max().points]\n",
    "result.loc['Найнижчий бал'] = [teacherData[teacher1].min().points, teacherData[teacher2].min().points]\n",
    "\n",
    "\n"
   ]
  },
  {
   "cell_type": "code",
   "execution_count": 175,
   "metadata": {
    "collapsed": false,
    "scrolled": true
   },
   "outputs": [
    {
     "data": {
      "text/html": [
       "<div>\n",
       "<table border=\"1\" class=\"dataframe\">\n",
       "  <thead>\n",
       "    <tr style=\"text-align: right;\">\n",
       "      <th></th>\n",
       "      <th>Лісецький</th>\n",
       "      <th>Свірепчук</th>\n",
       "    </tr>\n",
       "  </thead>\n",
       "  <tbody>\n",
       "    <tr>\n",
       "      <th>Середній бал</th>\n",
       "      <td>94.5556</td>\n",
       "      <td>93.4</td>\n",
       "    </tr>\n",
       "    <tr>\n",
       "      <th>Оцінки</th>\n",
       "      <td>{'А': 6, 'В': 3}</td>\n",
       "      <td>{'А': 9, 'С': 2, 'В': 4}</td>\n",
       "    </tr>\n",
       "    <tr>\n",
       "      <th>Найвищий бал</th>\n",
       "      <td>99</td>\n",
       "      <td>98</td>\n",
       "    </tr>\n",
       "    <tr>\n",
       "      <th>Найнижчий бал</th>\n",
       "      <td>85</td>\n",
       "      <td>81</td>\n",
       "    </tr>\n",
       "  </tbody>\n",
       "</table>\n",
       "</div>"
      ],
      "text/plain": [
       "                      Лісецький                 Свірепчук\n",
       "Середній бал            94.5556                      93.4\n",
       "Оцінки         {'А': 6, 'В': 3}  {'А': 9, 'С': 2, 'В': 4}\n",
       "Найвищий бал                 99                        98\n",
       "Найнижчий бал                85                        81"
      ]
     },
     "execution_count": 175,
     "metadata": {},
     "output_type": "execute_result"
    }
   ],
   "source": [
    "result"
   ]
  },
  {
   "cell_type": "code",
   "execution_count": 176,
   "metadata": {
    "collapsed": false,
    "scrolled": true
   },
   "outputs": [
    {
     "data": {
      "image/png": "[encoded data removed]",
      "text/plain": [
       "<matplotlib.figure.Figure at 0x7f8285e59a58>"
      ]
     },
     "metadata": {},
     "output_type": "display_data"
    }
   ],
   "source": [
    "from __future__ import unicode_literals\n",
    "import matplotlib.pyplot as plt\n",
    "\n",
    "plt.rcParams['font.family'] = 'fantasy'\n",
    "plt.rcParams['font.fantasy'] = 'Times New Roman', 'Ubuntu','Arial','Tahoma','Calibri'\n",
    "\n",
    "%matplotlib inline\n",
    "import numpy as np\n",
    "\n",
    "ind = np.arange(len(table))\n",
    "width = 0.5\n",
    "fig, ax = plt.subplots()\n",
    "\n",
    "rects1 = ax.bar(ind, table['points'], width, color='r')\n",
    "rects2 = ax.bar(ind, table['mark5'], width, color='y')\n",
    "\n",
    "ax.set_xticks(ind + width)\n",
    "ax.set_xticklabels(table['student'], rotation='90')\n",
    "\n",
    "plt.show()"
   ]
  },
  {
   "cell_type": "code",
   "execution_count": 167,
   "metadata": {
    "collapsed": false
   },
   "outputs": [
    {
     "data": {
      "image/png": "[encoded data removed]",
      "text/plain": [
       "<matplotlib.figure.Figure at 0x7f8286258e80>"
      ]
     },
     "metadata": {},
     "output_type": "display_data"
    }
   ],
   "source": [
    "import matplotlib.pyplot as plt\n",
    "import pandas as pd\n",
    "from pandas.tools.plotting import table\n",
    "\n",
    "ax = plt.subplot(111, frame_on=False) # no visible frame\n",
    "ax.xaxis.set_visible(False)  # hide the x axis\n",
    "ax.yaxis.set_visible(False)  # hide the y axis\n",
    "\n",
    "table(ax, result)  \n",
    "plt.savefig('mytable.png')"
   ]
  },
  {
   "cell_type": "code",
   "execution_count": null,
   "metadata": {
    "collapsed": true
   },
   "outputs": [],
   "source": []
  }
 ],
 "metadata": {
  "kernelspec": {
   "display_name": "Python 3",
   "language": "python",
   "name": "python3"
  },
  "language_info": {
   "codemirror_mode": {
    "name": "ipython",
    "version": 3
   },
   "file_extension": ".py",
   "mimetype": "text/x-python",
   "name": "python",
   "nbconvert_exporter": "python",
   "pygments_lexer": "ipython3",
   "version": "3.5.1"
  }
 },
 "nbformat": 4,
 "nbformat_minor": 0
}
